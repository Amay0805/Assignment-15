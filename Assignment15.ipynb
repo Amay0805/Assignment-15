{
 "cells": [
  {
   "cell_type": "code",
   "execution_count": 20,
   "id": "7fb21493-9eaf-4419-b380-5994089e7592",
   "metadata": {},
   "outputs": [],
   "source": [
    "# FIND THE TIME COMPLEXITY OF THE BELOW BLOCKS\n",
    "\n",
    "# 1\n",
    "# Problem 1 :\n",
    "def quicksort(arr):\n",
    "    if len(arr) <= 1:\n",
    "        return arr\n",
    "    pivot = arr[len(arr) // 2]\n",
    "    left = [x for x in arr if x < pivot]\n",
    "    middle = [x for x in arr if x == pivot]\n",
    "    right = [x for x in arr if x > pivot]\n",
    "    return quicksort(left) + middle + quicksort(right)\n",
    "\n",
    "# In this code ine for loop is assigned for making each sub array\n",
    "# Worst case time complexity of this code is O(n^2)\n",
    "# Worst case time complexity of this code is O(n^2)\n",
    "# Average case time complexity of this code is O(n)\n",
    "# Space complexity of this code is O(n)"
   ]
  },
  {
   "cell_type": "code",
   "execution_count": 11,
   "id": "516ee910-765b-4a9b-b655-059d33ddddae",
   "metadata": {},
   "outputs": [],
   "source": [
    "# 2\n",
    "# Problem 2 :\n",
    "def nested_loop_example(matrix):\n",
    "    rows, cols = len(matrix), len(matrix[0])\n",
    "    total = 0\n",
    "    for i in range(rows):\n",
    "        for j in range(cols):\n",
    "            total += matrix[i][j]\n",
    "    return total\n",
    "\n",
    "# In this code we have used 2 for loops are used.\n",
    "# Let n be the number of rows and m be the number if columns.\n",
    "# The time complexity of this code is O(n x m)."
   ]
  },
  {
   "cell_type": "code",
   "execution_count": 12,
   "id": "619d442d-e1fc-4d53-8f66-4e19bf60730a",
   "metadata": {},
   "outputs": [],
   "source": [
    "# 3\n",
    "# Problem 3 :\n",
    "def example_function(arr):\n",
    "    result = 0\n",
    "    for element in arr:\n",
    "        result += element\n",
    "    return result\n",
    "\n",
    "# This code has only one for loop which iterates over the whole array.\n",
    "# Let the length of the array be n.\n",
    "# The time complexity of this code thus becomes O(n)"
   ]
  },
  {
   "cell_type": "code",
   "execution_count": 13,
   "id": "2fb92d48-1d88-4671-bc83-46a6de613747",
   "metadata": {},
   "outputs": [],
   "source": [
    "# 4\n",
    "# Problem 4 :\n",
    "def longest_increasing_subsequence(nums):\n",
    "    n = len(nums)\n",
    "    lis = [1] * n\n",
    "    for i in range(1, n):\n",
    "        for j in range(0, i):\n",
    "            if nums[i] > nums[j] and lis[i] < lis[j] + 1:\n",
    "                lis[i] = lis[j] + 1\n",
    "    return max(lis)\n",
    "# This code makes use of 2 nested for loops and one array of length n(length of the the argument array)\n",
    "# Hence extra space is used for this purpose. The space complexity is O(n).\n",
    "# And the time complexity is O(n^2)"
   ]
  },
  {
   "cell_type": "code",
   "execution_count": 14,
   "id": "5d44d3af-729e-481e-9b31-4f60913248f0",
   "metadata": {},
   "outputs": [],
   "source": [
    "# 5\n",
    "# Problem 5 :\n",
    "def mysterious_function(arr):\n",
    "    n = len(arr)\n",
    "    result = 0\n",
    "    for i in range(n):\n",
    "        for j in range(i, n):\n",
    "            result += arr[i] * arr[j]\n",
    "    return result\n",
    "\n",
    "# This function uses 2 nested for loops.\n",
    "# So time complextiy of this function becomes O(n^2)"
   ]
  },
  {
   "cell_type": "code",
   "execution_count": 15,
   "id": "00f3414a-a7f6-438a-8982-e090b396c036",
   "metadata": {},
   "outputs": [
    {
     "name": "stdout",
     "output_type": "stream",
     "text": [
      "6\n"
     ]
    }
   ],
   "source": [
    "# 6\n",
    "# Problem 6 : Sum of Digits\n",
    "# Write a recursive function to calculate the sum of digits of a given positive integer.\n",
    "# sum_of_digits(123) -> 6\n",
    "\n",
    "def sum_of_digits(num):\n",
    "    if num<10:\n",
    "        return num\n",
    "    else:\n",
    "        return sum_of_digits(num // 10) + sum_of_digits(num % 10)\n",
    "\n",
    "print(sum_of_digits(123))"
   ]
  },
  {
   "cell_type": "code",
   "execution_count": 16,
   "id": "e2c29344-b246-4f5b-bc44-0f01fa38b0e1",
   "metadata": {},
   "outputs": [
    {
     "name": "stdout",
     "output_type": "stream",
     "text": [
      "[0, 1, 1, 2, 3, 5, 8, 13, 21]\n"
     ]
    }
   ],
   "source": [
    "# 7\n",
    "# Problem 7: Fibonacci Series\n",
    "# Write a recursive function to generate the first n numbers of the Fibonacci series.\n",
    "# fibonacci_series(6) -> [0, 1, 1, 2, 3, 5]\n",
    "\n",
    "def Fib_series(n):\n",
    "    if n == 0:\n",
    "        return [0]\n",
    "    elif n == 1:\n",
    "        return [0, 1]\n",
    "    else:\n",
    "        prev_series = Fib_series(n-1)\n",
    "        prev_series.append(prev_series[-1] + prev_series[-2])\n",
    "        return prev_series\n",
    "\n",
    "print(Fib_series(8))"
   ]
  },
  {
   "cell_type": "code",
   "execution_count": 17,
   "id": "bfcba8d9-6d2d-4290-a315-dd0c9361009c",
   "metadata": {},
   "outputs": [
    {
     "name": "stdout",
     "output_type": "stream",
     "text": [
      "True\n"
     ]
    }
   ],
   "source": [
    "# 8\n",
    "# Problem 8 : Subset Sum\n",
    "# Given a set of positive integers and a target sum, write a recursive function to determine if there exists a subset\n",
    "# of the integers that adds up to the target sum.\n",
    "# subset_sum([3, 34, 4, 12, 5, 2], 9) -> True\n",
    "\n",
    "def subset_sum(arr, target):\n",
    "    # Base cases\n",
    "    if target == 0:\n",
    "        return True\n",
    "    if not arr or target < 0:\n",
    "        return False\n",
    "    include_last = subset_sum(arr[:-1], target - arr[-1])\n",
    "    exclude_last = subset_sum(arr[:-1], target)\n",
    "    return include_last or exclude_last\n",
    "\n",
    "arr = [3, 34, 4, 12, 5, 2]\n",
    "target = 9\n",
    "print(subset_sum(arr, target))\n"
   ]
  },
  {
   "cell_type": "code",
   "execution_count": 18,
   "id": "378cbe25-b6b1-453d-94bb-a3bed37f949e",
   "metadata": {},
   "outputs": [
    {
     "name": "stdout",
     "output_type": "stream",
     "text": [
      "True\n"
     ]
    }
   ],
   "source": [
    "# 9\n",
    "# Problem 9: Word Break\n",
    "# Given a non-empty string and a dictionary of words, write a recursive function to determine if the string can be\n",
    "# segmented into a space-separated sequence of dictionary words.\n",
    "# word_break( leetcode , [ leet , code ]) -> True\n",
    "\n",
    "def wordBreak(wordList, word):\n",
    "    if word == '':\n",
    "        return True\n",
    "    else:\n",
    "        wordLen = len(word)\n",
    "        for i in range(1,wordLen+1):\n",
    "          if word[:i] in wordList and wordBreak(wordList, word[i:]):\n",
    "            return True\n",
    "        return False\n",
    "\n",
    "print(wordBreak( [\"leet\", \"code\"], \"leetcode\"))"
   ]
  },
  {
   "cell_type": "code",
   "execution_count": 19,
   "id": "2c6aa31c-f3b3-42b9-8e8a-d99a3601d55e",
   "metadata": {},
   "outputs": [
    {
     "name": "stdin",
     "output_type": "stream",
     "text": [
      "Enter the size of the board:  10\n"
     ]
    },
    {
     "name": "stdout",
     "output_type": "stream",
     "text": [
      "Q . . . . . . . . . \n",
      ". . . . . . . Q . . \n",
      ". Q . . . . . . . . \n",
      ". . . . . . . . Q . \n",
      ". . . . . Q . . . . \n",
      ". . Q . . . . . . . \n",
      ". . . . . . . . . Q \n",
      ". . . Q . . . . . . \n",
      ". . . . . . Q . . . \n",
      ". . . . Q . . . . . \n"
     ]
    }
   ],
   "source": [
    "# 10\n",
    "# Problem 10 : N-Queens\n",
    "# Implement a recursive function to solve the N Queens problem, where you have to place N queens on an N×N\n",
    "# chessboard in such a way that no two queens threaten each other.\n",
    "# n_queens(4)\n",
    "# [\n",
    "# [\".Q..\",\n",
    "# \"...Q\",\n",
    "# \"Q...\",\n",
    "# \"..Q.\"],\n",
    "# [\"..Q.\",\n",
    "# \"Q...\",\n",
    "# \"...Q\",\n",
    "# \".Q..\"]\n",
    "# ]\n",
    "N = int(input(\"Enter the size of the board: \"))  # Size of the board\n",
    "\n",
    "def printSolution(board):\n",
    "    for i in range(N):\n",
    "        for j in range(N):\n",
    "            if board[i][j] == 1:\n",
    "                print(\"Q\", end=\" \")\n",
    "            else:\n",
    "                print(\".\", end=\" \")\n",
    "        print()\n",
    "\n",
    "def isSafe(board, row, col):\n",
    "    # Check this row on left side\n",
    "    for i in range(col):\n",
    "        if board[row][i] == 1:\n",
    "            return False\n",
    "\n",
    "    # Check upper diagonal on left side\n",
    "    for i, j in zip(range(row, -1, -1), range(col, -1, -1)):\n",
    "        if board[i][j] == 1:\n",
    "            return False\n",
    "\n",
    "    # Check lower diagonal on left side\n",
    "    for i, j in zip(range(row, N), range(col, -1, -1)):\n",
    "        if board[i][j] == 1:\n",
    "            return False\n",
    "\n",
    "    return True\n",
    "\n",
    "def solveNQUtil(board, col):\n",
    "    if col >= N:\n",
    "        return True\n",
    "\n",
    "    for i in range(N):\n",
    "        if isSafe(board, i, col):\n",
    "            board[i][col] = 1\n",
    "            if solveNQUtil(board, col + 1):\n",
    "                return True\n",
    "            board[i][col] = 0\n",
    "\n",
    "    return False\n",
    "\n",
    "def solveNQ():\n",
    "    board = [[0 for _ in range(N)] for _ in range(N)]\n",
    "\n",
    "    if not solveNQUtil(board, 0):\n",
    "        print(\"Solution does not exist\")\n",
    "        return\n",
    "\n",
    "    printSolution(board)\n",
    "\n",
    "solveNQ()"
   ]
  }
 ],
 "metadata": {
  "kernelspec": {
   "display_name": "Python 3 (ipykernel)",
   "language": "python",
   "name": "python3"
  },
  "language_info": {
   "codemirror_mode": {
    "name": "ipython",
    "version": 3
   },
   "file_extension": ".py",
   "mimetype": "text/x-python",
   "name": "python",
   "nbconvert_exporter": "python",
   "pygments_lexer": "ipython3",
   "version": "3.10.8"
  }
 },
 "nbformat": 4,
 "nbformat_minor": 5
}
